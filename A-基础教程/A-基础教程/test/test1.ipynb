{
 "cells": [
  {
   "cell_type": "code",
   "execution_count": 9,
   "metadata": {},
   "outputs": [],
   "source": [
    "import tkinter\n",
    "top = tkinter.Tk()\n",
    "top.mainloop()"
   ]
  },
  {
   "cell_type": "code",
   "execution_count": 24,
   "metadata": {},
   "outputs": [],
   "source": [
    "from tkinter import *\n",
    "root = Tk()\n",
    "li = ['c','python']\n",
    "movie =['CSS','Booststarp']\n",
    "listb = Listbox(root)\n",
    "listb2 = Listbox(root)\n",
    "for item in li:\n",
    "      listb.insert(0,item)\n",
    "for item in movie:\n",
    "    listb2.insert(0,item)\n",
    "listb2.pack()\n",
    "listb.pack()\n",
    "root.mainloop()\n"
   ]
  },
  {
   "cell_type": "code",
   "execution_count": 28,
   "metadata": {},
   "outputs": [],
   "source": [
    "from tkinter import *\n",
    "window = Tk()\n",
    "window.title(\"Welcome to Python UI\")\n",
    "window.geometry('350x200')\n",
    "lbl = Label(window, text=\"Hello\")\n",
    "lbl.grid(column=0, row=0)\n",
    "lb2 = Label(window, text=\" \")\n",
    "lb2.grid(column=2, row = 1)\n",
    "def clicked():\n",
    "    lb2.configure(text=\"Button was clicked !!\")\n",
    "btn = Button(window, text=\"Click Me\", command=clicked)\n",
    "btn.grid(column=2, row=1)\n",
    "window.mainloop()"
   ]
  },
  {
   "cell_type": "code",
   "execution_count": null,
   "metadata": {},
   "outputs": [],
   "source": []
  }
 ],
 "metadata": {
  "kernelspec": {
   "display_name": "Python 3",
   "language": "python",
   "name": "python3"
  },
  "language_info": {
   "codemirror_mode": {
    "name": "ipython",
    "version": 3
   },
   "file_extension": ".py",
   "mimetype": "text/x-python",
   "name": "python",
   "nbconvert_exporter": "python",
   "pygments_lexer": "ipython3",
   "version": "3.8.5"
  }
 },
 "nbformat": 4,
 "nbformat_minor": 4
}
